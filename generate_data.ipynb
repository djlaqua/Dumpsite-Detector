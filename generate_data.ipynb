{
 "cells": [
  {
   "cell_type": "code",
   "execution_count": 1,
   "id": "8c4974e6",
   "metadata": {},
   "outputs": [],
   "source": [
    "import os\n",
    "import xml.etree.ElementTree as ET\n",
    "import cv2\n",
    "from typing import List, Tuple\n",
    "from PIL import Image"
   ]
  },
  {
   "cell_type": "code",
   "execution_count": 2,
   "id": "7bdd274a",
   "metadata": {},
   "outputs": [],
   "source": [
    "\n",
    "def load_images_from_directory(directory): # Load image files from a directory\n",
    "    \n",
    "    image_files = []\n",
    "    for root, _, files in os.walk(directory):\n",
    "        for filename in files:\n",
    "            if filename.endswith(\".jpg\"):\n",
    "                image_files.append(os.path.join(root, filename))\n",
    "    return image_files\n",
    "\n",
    "def load_dataset(dataset_dir): # Load image and annotation pairs from a dataset directory\n",
    "\n",
    "    train_images = load_images_from_directory(os.path.join(dataset_dir, \"train\", \"JPEGImages\"))\n",
    "    test_images = load_images_from_directory(os.path.join(dataset_dir, \"test\", \"JPEGImages\"))\n",
    "\n",
    "    # Map each image to its corresponding annotation\n",
    "    train_annotations = [image.replace(\"JPEGImages\", \"Annotations\").replace(\".jpg\", \".xml\") for image in train_images]\n",
    "    test_annotations = [image.replace(\"JPEGImages\", \"Annotations\").replace(\".jpg\", \".xml\") for image in test_images]\n",
    "\n",
    "    return train_images, train_annotations, test_images, test_annotations\n"
   ]
  },
  {
   "cell_type": "code",
   "execution_count": 3,
   "id": "ae50f9c6",
   "metadata": {},
   "outputs": [],
   "source": [
    "dataset_dir = \"data1/VOC2012\"  \n",
    "train_images, train_annotations, test_images, test_annotations = load_dataset(dataset_dir)"
   ]
  },
  {
   "cell_type": "code",
   "execution_count": 4,
   "id": "27e52f8f",
   "metadata": {},
   "outputs": [],
   "source": [
    "def process_annotation(xml_root: ET.Element) -> Tuple[List[Tuple[int, int, int, int]], List[str]]: #Process annotation data from an XML root element\n",
    "\n",
    "    bounding_boxes = []\n",
    "    labels = []\n",
    "\n",
    "    for object_elem in xml_root.findall(\"object\"):\n",
    "        bndbox = object_elem.find(\"bndbox\")\n",
    "        x_min = int(bndbox.find(\"xmin\").text)\n",
    "        y_min = int(bndbox.find(\"ymin\").text)\n",
    "        x_max = int(bndbox.find(\"xmax\").text)\n",
    "        y_max = int(bndbox.find(\"ymax\").text)\n",
    "\n",
    "        label = object_elem.find(\"name\").text\n",
    "        bounding_boxes.append((x_min, y_min, x_max, y_max))\n",
    "        labels.append(label)\n",
    "\n",
    "    return bounding_boxes, labels\n",
    "\n",
    "#     Load images and annotations from a list of image paths and annotation paths.\n",
    "def load_images_and_annotations(image_paths: List[str], annotation_paths: List[str]) -> Tuple[List[Image.Image], List[List[Tuple[int, int, int, int]]], List[List[str]]]:\n",
    "    \n",
    "    images = []\n",
    "    bounding_boxes = []\n",
    "    labels = []\n",
    "\n",
    "    for image_path, annotation_path in zip(image_paths, annotation_paths):\n",
    "        image = Image.open(image_path)\n",
    "        xml_root = ET.parse(annotation_path).getroot()\n",
    "        bndboxes, lbls = process_annotation(xml_root)\n",
    "        images.append(image)\n",
    "        bounding_boxes.append(bndboxes)\n",
    "        labels.append(lbls)\n",
    "\n",
    "    return images, bounding_boxes, labels   "
   ]
  },
  {
   "cell_type": "code",
   "execution_count": 5,
   "id": "14c7f94f",
   "metadata": {},
   "outputs": [],
   "source": [
    "train_images, train_bounding_boxes, train_labels = load_images_and_annotations(train_images, train_annotations)\n",
    "test_images, test_bounding_boxes, test_labels = load_images_and_annotations(test_images, test_annotations)"
   ]
  },
  {
   "cell_type": "code",
   "execution_count": 6,
   "id": "c458d389",
   "metadata": {},
   "outputs": [],
   "source": [
    "flat_train_labels = [label for sublist in train_labels for label in sublist]\n",
    "flat_test_labels = [label for sublist in test_labels for label in sublist]"
   ]
  },
  {
   "cell_type": "markdown",
   "id": "b66c6b1f",
   "metadata": {},
   "source": [
    "## Statistics"
   ]
  },
  {
   "cell_type": "code",
   "execution_count": 7,
   "id": "eab608d0",
   "metadata": {},
   "outputs": [
    {
     "name": "stdout",
     "output_type": "stream",
     "text": [
      "+----------------------+----------+--------------+------------+-------------+-----------+\n",
      "| Label                |   Images |   Train imgs | Train(%)   |   Test imgs | Test(%)   |\n",
      "+======================+==========+==============+============+=============+===========+\n",
      "| agriculture forestry |      389 |          247 | 63.50%     |         142 | 36.50%    |\n",
      "+----------------------+----------+--------------+------------+-------------+-----------+\n",
      "| construction waste   |      707 |          581 | 82.18%     |         126 | 17.82%    |\n",
      "+----------------------+----------+--------------+------------+-------------+-----------+\n",
      "| disposed garbage     |       12 |            9 | 75.00%     |           3 | 25.00%    |\n",
      "+----------------------+----------+--------------+------------+-------------+-----------+\n",
      "| domestic garbage     |     2936 |         2301 | 78.37%     |         635 | 21.63%    |\n",
      "+----------------------+----------+--------------+------------+-------------+-----------+\n",
      "| industry waste       |        1 |            1 | 100.00%    |           0 | 0.00%     |\n",
      "+----------------------+----------+--------------+------------+-------------+-----------+\n",
      "| mining waste         |        1 |            1 | 100.00%    |           0 | 0.00%     |\n",
      "+----------------------+----------+--------------+------------+-------------+-----------+\n",
      "| TOTAL                |     4046 |         3140 | 100.00%    |         906 | 100.00%   |\n",
      "+----------------------+----------+--------------+------------+-------------+-----------+\n"
     ]
    }
   ],
   "source": [
    "from tabulate import tabulate\n",
    "from collections import Counter\n",
    "\n",
    "def generate_label_statistics(train_labels, test_labels):\n",
    "    all_labels = train_labels + test_labels\n",
    "\n",
    "    # Calculate the number of occurrences of each class in the combined labels\n",
    "    class_counts = Counter(all_labels)\n",
    "    \n",
    "    # Get a list of unique labels\n",
    "    unique_labels = sorted(list(set(all_labels)))\n",
    "\n",
    "    # Prepare the data for tabulation\n",
    "    table_data = []\n",
    "\n",
    "    for label in unique_labels:\n",
    "        train_count = train_labels.count(label)\n",
    "        test_count = test_labels.count(label)\n",
    "        total_count = class_counts[label]\n",
    "\n",
    "        train_percent = (train_count / total_count) * 100\n",
    "        test_percent = (test_count / total_count) * 100\n",
    "\n",
    "        table_data.append([label, total_count, train_count, f\"{train_percent:.2f}%\", test_count, f\"{test_percent:.2f}%\"])\n",
    "\n",
    "    # Calculate the total number of images in the train and test sets\n",
    "    total_train_images = len(train_labels)\n",
    "    total_test_images = len(test_labels)\n",
    "    total_images = total_train_images + total_test_images\n",
    "\n",
    "    # Append a row with totals\n",
    "    table_data.append([\"TOTAL\", total_images, total_train_images, \"100.00%\", total_test_images, \"100.00%\"])\n",
    "\n",
    "    # Print the table\n",
    "    headers = [\"Label\", \"Images\", \"Train imgs\", \"Train(%)\", \"Test imgs\", \"Test(%)\"]\n",
    "    print(tabulate(table_data, headers, tablefmt=\"grid\"))\n",
    "\n",
    "# Use your loaded labels to generate statistics\n",
    "generate_label_statistics(flat_train_labels,flat_test_labels)\n"
   ]
  },
  {
   "cell_type": "code",
   "execution_count": 8,
   "id": "6e8fb376",
   "metadata": {},
   "outputs": [
    {
     "name": "stderr",
     "output_type": "stream",
     "text": [
      "/tmp/ipykernel_11897/1247706335.py:19: FutureWarning: \n",
      "\n",
      "Passing `palette` without assigning `hue` is deprecated and will be removed in v0.14.0. Assign the `y` variable to `hue` and set `legend=False` for the same effect.\n",
      "\n",
      "  sns.barplot(x=class_counts, y=class_names, palette=\"viridis\")\n"
     ]
    },
    {
     "data": {
      "image/png": "[encoded data removed]",
      "text/plain": [
       "<Figure size 1200x600 with 1 Axes>"
      ]
     },
     "metadata": {},
     "output_type": "display_data"
    }
   ],
   "source": [
    "import matplotlib.pyplot as plt\n",
    "import seaborn as sns\n",
    "\n",
    "def plot_class_distribution(train_labels, test_labels):\n",
    "    all_labels = train_labels + test_labels\n",
    "\n",
    "    # Calculate the number of occurrences of each class in the combined labels\n",
    "    class_counts = Counter(all_labels)\n",
    "\n",
    "    # Get a list of unique labels\n",
    "    unique_labels = sorted(list(set(all_labels)))\n",
    "\n",
    "    # Prepare the data for plotting\n",
    "    class_names = [label for label, count in class_counts.items()]\n",
    "    class_counts = [count for label, count in class_counts.items()]\n",
    "\n",
    "    # Plot the class distribution\n",
    "    plt.figure(figsize=(12, 6))\n",
    "    sns.barplot(x=class_counts, y=class_names, palette=\"viridis\")\n",
    "    plt.title(\"Class Distribution\")\n",
    "    plt.xlabel(\"Count\")\n",
    "    plt.ylabel(\"Class\")\n",
    "    plt.show()\n",
    "\n",
    "# Use your loaded labels to plot the class distribution\n",
    "plot_class_distribution(flat_train_labels, flat_test_labels)"
   ]
  },
  {
   "cell_type": "markdown",
   "id": "997e51c4",
   "metadata": {},
   "source": [
    "# Quick Remark here. \n",
    "\n",
    "Since this dataset contains waste so I decided to combine them all labels them as \"dumpsite\" and use the data set that we have in AerialWaste that are not illegal as a class which will be call \"no dumpsite\". The cell below shows the process."
   ]
  },
  {
   "cell_type": "code",
   "execution_count": 9,
   "id": "1e6146c1",
   "metadata": {},
   "outputs": [],
   "source": [
    "def rename_labels_to_dumpsite(labels): #Rename all labels in a list to \"dumpsite\n",
    "   \n",
    "    return [\"dumpsite\" for _ in labels]\n",
    "\n",
    "train_labels = rename_labels_to_dumpsite(train_labels)\n",
    "test_labels = rename_labels_to_dumpsite(test_labels)"
   ]
  },
  {
   "cell_type": "code",
   "execution_count": 10,
   "id": "e02cdd46",
   "metadata": {},
   "outputs": [
    {
     "name": "stdout",
     "output_type": "stream",
     "text": [
      "+----------+----------+--------------+------------+-------------+-----------+\n",
      "| Label    |   Images |   Train imgs | Train(%)   |   Test imgs | Test(%)   |\n",
      "+==========+==========+==============+============+=============+===========+\n",
      "| dumpsite |     3395 |         2671 | 78.67%     |         724 | 21.33%    |\n",
      "+----------+----------+--------------+------------+-------------+-----------+\n",
      "| TOTAL    |     3395 |         2671 | 100.00%    |         724 | 100.00%   |\n",
      "+----------+----------+--------------+------------+-------------+-----------+\n"
     ]
    }
   ],
   "source": [
    "# check the statistics again\n",
    "generate_label_statistics(train_labels, test_labels)"
   ]
  },
  {
   "cell_type": "markdown",
   "id": "4bdd0e28",
   "metadata": {},
   "source": [
    "# Quick note \n",
    "\n",
    "Here we combined both training and testing dataset together, so that when we get the dataset of the \"no_dumpsite\" we will merge the two dataset from both sources into a single directory structure, shuffle the combines data to ensure that the model doesn't see any pattern or order related to the source and decide on the percentage split between training and testing data for the combined shuffle dataset."
   ]
  },
  {
   "cell_type": "code",
   "execution_count": 11,
   "id": "25e61d59",
   "metadata": {},
   "outputs": [],
   "source": [
    "def rename_labels_to_dumpsite(labels): #  Renaming dumspites\n",
    "\n",
    "    return [1 for _ in labels]\n",
    "\n",
    "train_labels = rename_labels_to_dumpsite(train_labels)\n",
    "test_labels = rename_labels_to_dumpsite(test_labels)"
   ]
  },
  {
   "cell_type": "code",
   "execution_count": 12,
   "id": "d0381253",
   "metadata": {},
   "outputs": [],
   "source": [
    "from PIL import Image\n",
    "import os\n",
    "import json\n",
    "\n",
    "def save_images_as_coco_txt(images, bounding_boxes, labels, output_directory): # Combine the data, mark them as \"dumpsites,\" and save them in COCO format as .txt files.\n",
    "    \n",
    "    # Create the output directory if it doesn't exist\n",
    "    os.makedirs(output_directory, exist_ok=True)\n",
    "\n",
    "    for i, (image, bboxes,label) in enumerate(zip(images, bounding_boxes,labels)):\n",
    "        # Save image as JPEG\n",
    "        image_filename = f\"dumpsite_{i}.jpeg\"\n",
    "        image.save(os.path.join(output_directory, image_filename), \"JPEG\")\n",
    "        \n",
    "        # Create a .txt file for bounding box annotations\n",
    "        txt_filename = f\"dumpsite_{i}.txt\"\n",
    "        with open(os.path.join(output_directory, txt_filename), \"w\") as txt_file:\n",
    "            for bbox in bboxes:\n",
    "                xmin, ymin, xmax, ymax = bbox\n",
    "                #print(label, xmin, ymin, xmax, ymax)\n",
    "                txt_file.write(f\"{label} {xmin} {ymin} {xmax} {ymax}\\n\")           "
   ]
  },
  {
   "cell_type": "code",
   "execution_count": 13,
   "id": "98d0b826",
   "metadata": {},
   "outputs": [],
   "source": [
    "# Example usage\n",
    "output_directory = \"processed\"\n",
    "\n",
    "# Combine train and test data\n",
    "combined_images = train_images + test_images\n",
    "\n",
    "combined_bounding_boxes = train_bounding_boxes + test_bounding_boxes\n",
    "combined_labels = train_labels + test_labels\n",
    "# Save images as dumpsites\n",
    "save_images_as_coco_txt(combined_images, combined_bounding_boxes, combined_labels, output_directory)"
   ]
  },
  {
   "cell_type": "code",
   "execution_count": 14,
   "id": "6e624641",
   "metadata": {},
   "outputs": [
    {
     "data": {
      "text/plain": [
       "(1024, 1024)"
      ]
     },
     "execution_count": 14,
     "metadata": {},
     "output_type": "execute_result"
    }
   ],
   "source": [
    "#shape of one image in the combined_images\n",
    "combined_images[0].size"
   ]
  },
  {
   "cell_type": "markdown",
   "id": "302bf7c5",
   "metadata": {},
   "source": [
    "# Quick note\n",
    "We need the equivalent number of images in both training and test set so as to avoid imbalance labels in the classes "
   ]
  },
  {
   "cell_type": "code",
   "execution_count": 1,
   "id": "83067eb8",
   "metadata": {},
   "outputs": [],
   "source": [
    "from PIL import Image\n",
    "import os\n",
    "import json\n",
    "\n",
    "\n",
    "def resize_image(image, new_size=(1024, 1024)):\n",
    "    return image.resize(new_size, resample=Image.BILINEAR)\n",
    "\n",
    "def save_images_as_yolo_no_dumpsite(data_dir, output_dir, output_txt_dir, max_images=3395):\n",
    "    # Create the output directory if it doesn't exist\n",
    "    if not os.path.exists(output_dir):\n",
    "        os.makedirs(output_dir)\n",
    "    \n",
    "    # Create the output directory for YOLO annotation text files\n",
    "    if not os.path.exists(output_txt_dir):\n",
    "        os.makedirs(output_txt_dir)\n",
    "\n",
    "    # Load the JSON data\n",
    "    with open(os.path.join(data_dir, \"training.json\"), \"r\") as train_json_file:\n",
    "        training_data = json.load(train_json_file)\n",
    "\n",
    "    with open(os.path.join(data_dir, \"testing.json\"), \"r\") as test_json_file:\n",
    "        testing_data = json.load(test_json_file)\n",
    "\n",
    "    # Combine the data from both training and testing sets\n",
    "    data = {\n",
    "        \"images\": training_data[\"images\"] + testing_data[\"images\"],\n",
    "        #\"annotations\": training_data[\"annotations\"] + testing_data[\"annotations\"],\n",
    "    }\n",
    "\n",
    "    # Filter images based on 'is_candidate_location' value\n",
    "    filtered_images = [img for img in data[\"images\"] if img.get(\"is_candidate_location\") == 0]\n",
    "\n",
    "    # Keep track of the number of saved images\n",
    "    images_saved = 0\n",
    "\n",
    "    # Process and save images\n",
    "    for img_data in filtered_images:\n",
    "        # Load and convert PNG images to JPEG\n",
    "        img_path = os.path.join(data_dir, img_data[\"file_name\"])\n",
    "        img = Image.open(img_path)\n",
    "        img = img.convert(\"RGB\")\n",
    "        img = resize_image(img, new_size=(1024, 1024))\n",
    "        \n",
    "        # Save as JPEG with a new name\n",
    "        new_filename = f\"no_dumpsite_{images_saved}.jpeg\"\n",
    "        new_img_path = os.path.join(output_dir, new_filename)\n",
    "        img.save(new_img_path, \"JPEG\")\n",
    "\n",
    "        # Create YOLO annotation file for the image\n",
    "        annotation_filename = f\"no_dumpsite_{images_saved}.txt\"\n",
    "        annotation_path = os.path.join(output_txt_dir, annotation_filename)\n",
    "        with open(annotation_path, \"w\") as annotation_file:\n",
    "            annotation_file.write(f\"0 0 0 1024 1024\\n\")  # YOLO format: <class_id> <x_center> <y_center> <width> <height>\n",
    "\n",
    "        # Update the count of saved images\n",
    "        images_saved += 1\n",
    "\n",
    "        # Stop after saving the specified number of images\n",
    "        if images_saved >= max_images:\n",
    "            break\n",
    "\n",
    "    print(f\"Saved {images_saved} images with the label 'no_dumpsite' in the '{output_dir}' directory.\")\n",
    "    print(f\"Saved YOLO annotation files in '{output_txt_dir}' directory.\")"
   ]
  },
  {
   "cell_type": "code",
   "execution_count": 2,
   "id": "73928fa1",
   "metadata": {},
   "outputs": [
    {
     "name": "stdout",
     "output_type": "stream",
     "text": [
      "Saved 3395 images with the label 'no_dumpsite' in the 'processed/images' directory.\n",
      "Saved YOLO annotation files in 'processed/annotations/' directory.\n"
     ]
    }
   ],
   "source": [
    "data_dir = \"data1/Aerial\"\n",
    "output_dir = \"processed/images\"\n",
    "\n",
    "output_txt_dir = \"processed/annotations/\"\n",
    "save_images_as_yolo_no_dumpsite(data_dir, output_dir, output_txt_dir)"
   ]
  },
  {
   "cell_type": "markdown",
   "id": "4982ab31",
   "metadata": {},
   "source": [
    "## Save 100 dataset for testing "
   ]
  },
  {
   "cell_type": "code",
   "execution_count": 2,
   "id": "b99f7b9d",
   "metadata": {},
   "outputs": [],
   "source": [
    "from PIL import Image\n",
    "import os\n",
    "import json\n",
    "\n",
    "def resize_image(image, new_size=(1024, 1024)):\n",
    "    return image.resize(new_size, resample=Image.BILINEAR)\n",
    "\n",
    "def save_testing_data(data_dir, output_dir, output_txt_dir, max_images=20):\n",
    "    # Create the output directory if it doesn't exist\n",
    "    if not os.path.exists(output_dir):\n",
    "        os.makedirs(output_dir)\n",
    "\n",
    "    # Create the output directory for YOLO annotation text files\n",
    "    if not os.path.exists(output_txt_dir):\n",
    "        os.makedirs(output_txt_dir)\n",
    "\n",
    "    # Load the JSON data\n",
    "    with open(os.path.join(data_dir, \"testing_2.json\"), \"r\") as test_json_file:\n",
    "        testing_data = json.load(test_json_file)\n",
    "\n",
    "    # Keep track of the number of saved images\n",
    "    images_saved = 0\n",
    "\n",
    "    # Process and save images with associated annotations\n",
    "    for img_data, annotation_data in zip(testing_data[\"images\"], testing_data[\"annotations\"]):\n",
    "        # Load and convert PNG images to JPEG\n",
    "        img_path = os.path.join(data_dir, img_data[\"file_name\"])\n",
    "        img = Image.open(img_path)\n",
    "        img = img.convert(\"RGB\")\n",
    "        img = resize_image(img, new_size=(1024, 1024))\n",
    "\n",
    "        # Save as JPEG with a new name\n",
    "        new_filename = f\"{images_saved}.jpeg\"\n",
    "        new_img_path = os.path.join(output_dir, new_filename)\n",
    "        img.save(new_img_path, \"JPEG\")\n",
    "\n",
    "        # Extract bounding box information\n",
    "        bbox = annotation_data[\"bbox\"]\n",
    "        xmin, ymin, xmax, ymax = bbox\n",
    "\n",
    "        # Create YOLO annotation file for the image\n",
    "        annotation_filename = f\"{images_saved}.txt\"\n",
    "        annotation_path = os.path.join(output_txt_dir, annotation_filename)\n",
    "        with open(annotation_path, \"w\") as annotation_file:\n",
    "            annotation_file.write(f\"1 {xmin} {ymin} {xmax} {ymax}\\n\")\n",
    "\n",
    "        # Update the count of saved images\n",
    "        images_saved += 1\n",
    "\n",
    "        # Stop after saving the specified number of images\n",
    "        if images_saved >= max_images:\n",
    "            break\n"
   ]
  },
  {
   "cell_type": "code",
   "execution_count": 3,
   "id": "2d3a8069",
   "metadata": {},
   "outputs": [],
   "source": [
    "data_dir = \"data1/Aerial\"\n",
    "output_dir = \"processed/test/images\"\n",
    "\n",
    "output_txt_dir = \"processed/test/annotations/\"\n",
    "save_testing_data(data_dir, output_dir, output_txt_dir)"
   ]
  },
  {
   "cell_type": "code",
   "execution_count": null,
   "id": "33a9b03d",
   "metadata": {},
   "outputs": [],
   "source": []
  }
 ],
 "metadata": {
  "kernelspec": {
   "display_name": "Python 3 (ipykernel)",
   "language": "python",
   "name": "python3"
  },
  "language_info": {
   "codemirror_mode": {
    "name": "ipython",
    "version": 3
   },
   "file_extension": ".py",
   "mimetype": "text/x-python",
   "name": "python",
   "nbconvert_exporter": "python",
   "pygments_lexer": "ipython3",
   "version": "3.10.9"
  }
 },
 "nbformat": 4,
 "nbformat_minor": 5
}
